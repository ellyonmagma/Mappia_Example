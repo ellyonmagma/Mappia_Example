{
  "nbformat": 4,
  "nbformat_minor": 0,
  "metadata": {
    "colab": {
      "provenance": [],
      "authorship_tag": "ABX9TyNdYmwXLbzss82djQP277GP",
      "include_colab_link": true
    },
    "kernelspec": {
      "name": "python3",
      "display_name": "Python 3"
    },
    "language_info": {
      "name": "python"
    }
  },
  "cells": [
    {
      "cell_type": "markdown",
      "metadata": {
        "id": "view-in-github",
        "colab_type": "text"
      },
      "source": [
        "<a href=\"https://colab.research.google.com/github/ellyonmagma/Mappia_Example/blob/main/teste_streamlit.ipynb\" target=\"_parent\"><img src=\"https://colab.research.google.com/assets/colab-badge.svg\" alt=\"Open In Colab\"/></a>"
      ]
    },
    {
      "cell_type": "code",
      "execution_count": 1,
      "metadata": {
        "colab": {
          "base_uri": "https://localhost:8080/"
        },
        "id": "JFG4hoKbmobG",
        "outputId": "f9029208-f24f-4793-b803-ca441baef26a"
      },
      "outputs": [
        {
          "output_type": "stream",
          "name": "stdout",
          "text": [
            "Writing app.py\n"
          ]
        }
      ],
      "source": [
        "%%writefile app.py\n",
        "import streamlit as st\n",
        "import folium\n",
        "from streamlit.components.v1 import html\n",
        "\n",
        "# Título do aplicativo\n",
        "st.title('Mapa com Folium no Streamlit')\n",
        "\n",
        "# Criar o mapa\n",
        "m = folium.Map(location=[-23.5505, -46.6333], zoom_start=12)\n",
        "\n",
        "# Adicionar um marcador\n",
        "folium.Marker(\n",
        "    location=[-23.5505, -46.6333],\n",
        "    popup='São Paulo',\n",
        "    icon=folium.Icon(color='blue')\n",
        ").add_to(m)\n",
        "\n",
        "# Mostrar o mapa\n",
        "map_html = m._repr_html_()\n",
        "html(map_html, height=500)\n"
      ]
    }
  ]
}